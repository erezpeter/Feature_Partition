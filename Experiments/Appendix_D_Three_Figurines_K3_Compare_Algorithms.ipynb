{
 "cells": [
  {
   "cell_type": "code",
   "execution_count": null,
   "id": "826a3ba8-6409-46c5-b2fc-ceba7a3fc305",
   "metadata": {},
   "outputs": [],
   "source": [
    "import numpy as np\n",
    "import scipy\n",
    "import scipy.spatial\n",
    "from scipy.spatial.distance import squareform,pdist,cdist\n",
    "import matplotlib.pyplot as plt\n",
    "from scipy.io import mmread\n",
    "\n",
    "from sklearn.manifold import TSNE\n",
    "from joblib import Parallel, delayed\n",
    "\n",
    "from timeit import default_timer as timer\n",
    "\n",
    "import scanpy as sc\n",
    "import anndata as ad\n",
    "\n",
    "\n",
    "from scipy.sparse import csr_matrix\n",
    "import pandas as pd\n",
    "import anndata as ad\n"
   ]
  },
  {
   "cell_type": "code",
   "execution_count": null,
   "id": "29bffde0-1f12-448d-9d9e-0451787889db",
   "metadata": {},
   "outputs": [],
   "source": [
    "import sys\n",
    "import os\n",
    "\n",
    "# Add the parent directory to sys.path\n",
    "sys.path.append(os.path.abspath('..'))\n"
   ]
  },
  {
   "cell_type": "code",
   "execution_count": null,
   "id": "8a7ff98f-a9ee-41be-b852-a6a56168d5c4",
   "metadata": {},
   "outputs": [],
   "source": [
    "# Load data and extracted angle information from Experiment2_Dermal_5K_Genes.ipynb\n",
    "# (The experiment that partitioned the three figurine images into 3 partitions (K=3))\n",
    "f= np.load('',allow_pickle=True).item()\n"
   ]
  },
  {
   "cell_type": "code",
   "execution_count": null,
   "id": "4ee3a174-052d-4cfa-9dec-40f45df21e08",
   "metadata": {},
   "outputs": [],
   "source": [
    "x= f['x']\n",
    "omega= f['omega']\n",
    "feature_partitions= f['feature_partitions']\n",
    "c_yoda= f['color_yoda']\n",
    "c_dog= f['color_dog']\n",
    "c_bunny= f['color_bunny']\n",
    "yoda_circ =f['yoda_circ']\n",
    "dog_circ =f['dog_circ']\n",
    "bunny_circ =f['bunny_circ']\n",
    "del f"
   ]
  },
  {
   "cell_type": "code",
   "execution_count": null,
   "id": "d46b02df-fff9-4ce5-a67b-02d618aea4c3",
   "metadata": {},
   "outputs": [],
   "source": [
    "K=3"
   ]
  },
  {
   "cell_type": "code",
   "execution_count": null,
   "id": "a487c1bd-8168-4419-be17-ce31cc6aefe5",
   "metadata": {},
   "outputs": [],
   "source": []
  },
  {
   "cell_type": "code",
   "execution_count": null,
   "id": "653cc3db-4cfd-4ea9-9a84-1eafe2863284",
   "metadata": {},
   "outputs": [],
   "source": []
  },
  {
   "cell_type": "markdown",
   "id": "c28ff73f-bf54-45d6-93ce-b55f5882eb01",
   "metadata": {},
   "source": [
    "### Multi-tSNE"
   ]
  },
  {
   "cell_type": "code",
   "execution_count": null,
   "id": "828390ea-5250-40d8-a1a0-094fe001d3c1",
   "metadata": {},
   "outputs": [],
   "source": [
    "# Clone the py_mmtsne repository (uncomment to execute)\n",
    "# !git clone https://github.com/gsaygili/py_mmtsne.git\n",
    "\n",
    "# This code uses the repository at commit: fd8d39ed43b254cbb9bf0e776a9a394e894a4b40\n"
   ]
  },
  {
   "cell_type": "code",
   "execution_count": null,
   "id": "e75090b4-2cb2-487a-9f8a-a5147a2380b6",
   "metadata": {},
   "outputs": [],
   "source": [
    "from sklearn.manifold import _utils\n",
    "from sklearn.metrics.pairwise import _VALID_METRICS, pairwise_distances\n",
    "\n",
    "# The function extracts the joint probability matrix P from t-SNE based on the given data.\n",
    "#\n",
    "# Input:\n",
    "#   data : ndarray of shape (N, D)\n",
    "#       Input data matrix with N samples and D features.\n",
    "#\n",
    "#   perplexity : float\n",
    "#       Perplexity parameter used to set the bandwidth of the conditional distributions in t-SNE.\n",
    "#\n",
    "# Output:\n",
    "#   P : ndarray of shape (N, N)\n",
    "#       Symmetrized joint probability matrix used in the t-SNE objective.\n",
    "\n",
    "def get_tSNE_P(data,perplexity):\n",
    "    distances = pairwise_distances(data, squared=True).astype(np.float32, copy=False)\n",
    "    conditional_P = _utils._binary_search_perplexity(distances, perplexity, False)\n",
    "    P = conditional_P + conditional_P.T\n",
    "    P = np.maximum(P / np.sum(P), np.finfo(float).eps)\n",
    "    return P\n"
   ]
  },
  {
   "cell_type": "code",
   "execution_count": null,
   "id": "ff186e5f-121b-4136-90b0-e9054f09aa6f",
   "metadata": {},
   "outputs": [],
   "source": [
    "from py_mmtsne.multmaps_tsne import mult_maps_tsne \n"
   ]
  },
  {
   "cell_type": "code",
   "execution_count": null,
   "id": "873074af-667a-422c-9e7d-e074ee6a4349",
   "metadata": {
    "scrolled": true
   },
   "outputs": [],
   "source": [
    "# Generate two embeddings for each parameter setting, where each parameter is a tuple: \n",
    "# the first element specifies the perplexity, and the second defines the embedding dimension used in the generated embeddings\n",
    "\n",
    "multi_tsne_params= np.array([[5,2],[10,2],[20,2],[40,2],[5,3],[10,3],[20,3],[40,3]])\n",
    "\n",
    "multi_tsne = [mult_maps_tsne( get_tSNE_P(x,multi_tsne_params[i][0]), no_maps=K, no_dims=multi_tsne_params[i][1])[0]  for i in range(len(multi_tsne_params))]"
   ]
  },
  {
   "cell_type": "code",
   "execution_count": null,
   "id": "74977c82-b8d5-49f3-8232-b1c3a60ffde4",
   "metadata": {},
   "outputs": [],
   "source": []
  },
  {
   "cell_type": "markdown",
   "id": "652acd6f-57c1-412b-b3c3-943ef99cc11c",
   "metadata": {},
   "source": [
    "### IC- PML"
   ]
  },
  {
   "cell_type": "code",
   "execution_count": null,
   "id": "950c3080-f22a-4509-8335-ffa9d2f84f3f",
   "metadata": {},
   "outputs": [],
   "source": [
    "# Clone the ic-pml repository (uncomment to execute)\n",
    "# !git clone https://github.com/he-jesse/ic-pml.git\n",
    "\n",
    "# This code uses the repository at commit: 527c7d9169db88913cd1dc5e417355a1d68ae18f"
   ]
  },
  {
   "cell_type": "code",
   "execution_count": null,
   "id": "777cfcd9-051d-4926-9260-43557ee8d952",
   "metadata": {},
   "outputs": [],
   "source": [
    "# The code was modified to ensure it runs without errors:\n",
    "# - Commented out `load_latex_preamble()` in `ic-pml/_configure.py`\n",
    "# - Commented out `import matlab.engine` in `methods.py`"
   ]
  },
  {
   "cell_type": "code",
   "execution_count": null,
   "id": "d026992f-8cf7-4a24-9832-07d3124714ad",
   "metadata": {},
   "outputs": [],
   "source": [
    "# Importing functions from `methods.py` in the `ic-pml` subdirectory\n",
    "# by temporarily changing the working directory\n",
    "#\n",
    "# import os\n",
    "# os.chdir('ic-pml')\n",
    "# from methods import *\n",
    "# os.chdir('..')"
   ]
  },
  {
   "cell_type": "code",
   "execution_count": null,
   "id": "1d58b21e-bb88-4a89-ad99-16237af6ce40",
   "metadata": {
    "scrolled": true
   },
   "outputs": [],
   "source": [
    "from scipy.spatial.distance import cdist\n",
    "\n",
    "# Computes the largest Euclidean distance from any point to one of its k-nearest neighbors\n",
    "def get_max_knn(dist_mat, k):\n",
    "    return np.max(np.partition(dist_mat,1+k)[:,1+k])\n",
    "    \n",
    "# The maximal embedding dimnsion in each partition\n",
    "ic_pml_max_emb_dim=5\n",
    "\n",
    "# Compute the Euclidean distance matrix\n",
    "cur_dis_matrix= cdist(x,x)**2\n",
    "\n",
    "eps_arr= [get_max_knn(cur_dis_matrix,i) for i in [5,10,20,40]]\n",
    "sim_crit= [0.01,0.03,0.05, 0.1,0.3,0.5]\n",
    "eig_crit= [0.01,0.03,0.05, 0.1,0.3,0.5,1,2]\n",
    "\n",
    "\n",
    "# Generate three embeddings for each parameter setting.\n",
    "# Each parameter is a triplet where:\n",
    "# * the first element specifies the bandwidth of the affinity matrix,\n",
    "# * the second defines the similarity criterion value,\n",
    "# * and the third sets the eigenvalue criterion.\n",
    "\n",
    "embs_ic_pml= np.zeros(( len(eps_arr)*len(sim_crit)*len(eig_crit),K,len(x),ic_pml_max_emb_dim))\n",
    "embs_ic_pml_dims= np.zeros(( len(eps_arr)*len(sim_crit)*len(eig_crit),K))\n",
    "\n",
    "for i,(eps_used, sim_crit_used,eig_crit_used) in enumerate([  (a,b,c) for a in eps_arr for b in sim_crit for c in eig_crit]):\n",
    "    print(str(i)+' '+str(len(eps_arr)* len(sim_crit)*len(eig_crit)))\n",
    "    \n",
    "    fact = factorize(x, sigma=eps_used, n_factors = K, sim_crit=sim_crit_used, eig_crit=eig_crit_used, n_eigenvectors=50)\n",
    "\n",
    "    for s in range(K):\n",
    "        eigs_used = np.array(fact['manifolds'][s][:ic_pml_max_emb_dim])\n",
    "        embs_ic_pml[i,s,:,:len(eigs_used)]=  fact['phi'][:, eigs_used]\n",
    "        embs_ic_pml_dims[i,s]= len(eigs_used)\n",
    "            \n"
   ]
  },
  {
   "cell_type": "code",
   "execution_count": null,
   "id": "9f6d0ff9-dc50-4999-ba5b-61fc2f04a8df",
   "metadata": {},
   "outputs": [],
   "source": [
    "ic_pml_params= np.array([  (a,b,c) for a in eps_arr for b in sim_crit for c in eig_crit])"
   ]
  },
  {
   "cell_type": "code",
   "execution_count": null,
   "id": "cece8c8f-634b-4140-9a44-9742eae37d55",
   "metadata": {},
   "outputs": [],
   "source": []
  },
  {
   "cell_type": "code",
   "execution_count": null,
   "id": "5fe83eaa-4bf1-42ab-a726-53414d69bcc9",
   "metadata": {},
   "outputs": [],
   "source": []
  },
  {
   "cell_type": "markdown",
   "id": "c9f665bb-873b-402b-a154-e23ea3e61598",
   "metadata": {},
   "source": [
    "### LDLE"
   ]
  },
  {
   "cell_type": "code",
   "execution_count": null,
   "id": "7d402138-432f-43f6-af42-b5bda160c34b",
   "metadata": {
    "scrolled": true
   },
   "outputs": [],
   "source": [
    "from pyLDLE2 import buml_, util_\n",
    "from scipy.sparse.csgraph import floyd_warshall, shortest_path\n",
    "from sklearn.neighbors import NearestNeighbors\n",
    "\n",
    "# The function computes the k-nearest neighbors for each sample, ordered from closest to farthest,\n",
    "# based on a given pairwise distance matrix.\n",
    "#\n",
    "# Input:\n",
    "#   dist_mat : ndarray of shape (N, N)\n",
    "#       Pairwise distance matrix where dist_mat[i, j] is the distance between sample i and sample j.\n",
    "#\n",
    "#   k : int\n",
    "#       Number of nearest neighbors to retrieve for each sample.\n",
    "#\n",
    "# Output:\n",
    "#   indsA : ndarray of shape (N, k)\n",
    "#       Each row contains the indices of the k nearest neighbors for that sample,\n",
    "#       sorted from the closest to the farthest neighbor.\n",
    "def get_K_min_inds_sorted(dist_mat,k=50):\n",
    "    indsA = np.argpartition(dist_mat+np.eye(len(dist_mat))*np.max(dist_mat),k,axis=1)[:,:k]\n",
    "        \n",
    "    indsB = np.argsort(dist_mat[np.arange(len(dist_mat))[:,None], indsA],axis=1)\n",
    "    indsA= indsA[np.arange(len(A))[:,None], indsB]\n",
    "    return indsA\n",
    "\n",
    "# Copied from `pyLDLE2/util_.py` to identify nearest neighbors in a torned embedding,\n",
    "# using the same approach as in the original paper’s analysis.\n",
    "def shortest_paths(X, n_nbrs):\n",
    "    nbrs = NearestNeighbors(n_neighbors=n_nbrs).fit(X)\n",
    "    knn_graph = nbrs.kneighbors_graph(mode='distance')\n",
    "    dist_matrix, predecessors = shortest_path(knn_graph, return_predecessors=True, directed=False)\n",
    "    return dist_matrix, predecessors\n",
    "\n",
    "\n",
    "# Defined in order to allow the code to run\n",
    "np.int= int\n",
    "\n",
    "\n",
    "# Generate a single embedding for each parameter setting.\n",
    "# Each parameter is a quadruplet where:\n",
    "#   * the first element specifies the eta parameter,\n",
    "#   * the second defines the k_tune parameter,\n",
    "#   * the third sets the embedding dimension,\n",
    "#   * and the fourth indicates whether the embedding should be torned.\n",
    "#\n",
    "# Then, extract the k-nearest neighbors of each point based on the generated embedding.\n",
    "# For the torned case, we follow the same procedure as in `compute_global_distortions()`\n",
    "# from `pyLDLE2/util_.py`.\n",
    "\n",
    "LDLE_parameters= np.zeros((32,4))\n",
    "LDLE_embs= []\n",
    "LDLE_nn=[]\n",
    "s= 0 \n",
    "for eta in [5,10]:\n",
    "    for k_tune in [5,10,20,40]:\n",
    "        for d in [2,3]:\n",
    "            for is_torn in [False, True]:\n",
    "                print('------------***********************')\n",
    "                print(str(eta)+'   '+str(d)+'   '+str(is_torn))\n",
    "                LDLE_parameters[s,:]= np.array([eta,d,is_torn,k_tune])\n",
    "                s+=1\n",
    "                \n",
    "                buml_obj = buml_.BUML(d=d, local_opts={'algo':'LDLE', 'k_tune':k_tune}, global_opts={'to_tear':is_torn},\\\n",
    "                          intermed_opts={'eta_min': eta})\n",
    "                \n",
    "                emb_ldle = buml_obj.fit(X= x)\n",
    "                LDLE_embs.append(emb_ldle+0.)\n",
    "                if is_torn:\n",
    "                    n_nbr =10\n",
    "                    y_s_d_e, _ = shortest_paths(buml_obj.GlobalViews.y_final+0., n_nbr)\n",
    "                    intermed_param = buml_obj.IntermedViews.intermed_param\n",
    "                    Utilde = buml_obj.IntermedViews.Utilde\n",
    "                    C = buml_obj.IntermedViews.C\n",
    "                    global_opts = buml_obj.global_opts\n",
    "                    cur_dists = buml_obj.GlobalViews.compute_pwise_dist_in_embedding(intermed_param,\n",
    "                                                                                Utilde, C, global_opts,\n",
    "                                                                                dist=y_s_d_e, y=buml_obj.GlobalViews.y_final+0.)\n",
    "                    \n",
    "                else:\n",
    "                    cur_dists= emb_ldle@emb_ldle.T\n",
    "                    cur_dists= np.diag(cur_dists)[:,None]+np.diag(cur_dists)[None,:]-2*cur_dists\n",
    "\n",
    "                \n",
    "                LDLE_nn.append(get_K_min_inds_sorted(cur_dists))"
   ]
  },
  {
   "cell_type": "markdown",
   "id": "31983338-06a5-4fb1-ac5c-fbf5b4f42cff",
   "metadata": {},
   "source": [
    "# tSNE on all features"
   ]
  },
  {
   "cell_type": "code",
   "execution_count": null,
   "id": "ece46403-a0db-498f-9685-12c42d5ebda9",
   "metadata": {},
   "outputs": [],
   "source": [
    "# Generate a single embedding for each parameter setting.\n",
    "# Each parameter is a pair where:\n",
    "#   * the first element sets the embedding dimension,\n",
    "#   * the second defines the perplexity parameter.\n",
    "\n",
    "Tsne_all_params= np.array([[2,5],[2,10],[2,20],[2,40],[3,5],[3,10],[3,20],[3,40]])\n",
    "\n",
    "Tsne_all = [TSNE(n_components=Tsne_all_params[i][0], perplexity=Tsne_all_params[i][1], random_state=42).fit_transform(x) for i in range(len(Tsne_all_params))]\n"
   ]
  },
  {
   "cell_type": "code",
   "execution_count": null,
   "id": "dbaa04a7-9e46-473f-b3f4-54cc92c6ab1e",
   "metadata": {},
   "outputs": [],
   "source": []
  },
  {
   "cell_type": "markdown",
   "id": "b4633226-6a6e-4188-9421-b12911701cb8",
   "metadata": {},
   "source": [
    "# tSNE FP"
   ]
  },
  {
   "cell_type": "code",
   "execution_count": null,
   "id": "cb88ca78-933a-4271-8ec9-dffd5c560e84",
   "metadata": {},
   "outputs": [],
   "source": [
    "# Generate a single embedding for the data based on each of the extracted partitions\n",
    "\n",
    "Tsne_FP= [TSNE(n_components=3, perplexity=10, random_state=42).fit_transform(x[:,feature_partitions[s]]) for s in range(K)]"
   ]
  },
  {
   "cell_type": "code",
   "execution_count": null,
   "id": "c55b30fa-c183-41be-9a1d-6275cd62a3cd",
   "metadata": {},
   "outputs": [],
   "source": []
  },
  {
   "cell_type": "code",
   "execution_count": null,
   "id": "20f8bd50-9bee-4813-b662-a185bd052c81",
   "metadata": {},
   "outputs": [],
   "source": []
  },
  {
   "cell_type": "markdown",
   "id": "f8fa8cc3-19f6-4204-9d70-3f4457adc5bc",
   "metadata": {},
   "source": [
    "# Evaluation of generated embeddings\n",
    "\n",
    "### The following procedure is performed for each value of K (number of nearest neighbors).\n",
    "###\n",
    "### First, for each embedding, compute the K-nearest neighbor (KNN) error of each sample \n",
    "### with respect to each figurine’s angle configuration. The KNN error is defined as the number \n",
    "### of incorrectly estimated neighbors divided by K.\n",
    "###\n",
    "### Then, for each embedding and figurine, compute a score defined as the average KNN error \n",
    "### across all samples.\n",
    "###\n",
    "### Next, for each triplet of embeddings, compute the average score when each embedding is \n",
    "### paired with a distinct figurine. Take the minimal score across all valid matchings.\n",
    "###\n",
    "### Finally, for each value of K, return the triplet of embeddings with the lowest matching score.\n",
    "###\n",
    "### * In the case of single embeddings, the score is computed by matching the same embedding \n",
    "###   to each of the figurines individually and then averaging the resulting scores, \n",
    "###   as if the same embedding were used for all three figurines.\n"
   ]
  },
  {
   "cell_type": "code",
   "execution_count": null,
   "id": "eb602c9e-ef15-49ac-a8f9-259cafb31bf4",
   "metadata": {},
   "outputs": [],
   "source": [
    "from itertools import permutations\n",
    "# Computes the percentage of intersection between two K-nearest neighbor lists for each point.\n",
    "#\n",
    "# Input:\n",
    "#   neighbors : numpy.ndarray of shape (N, K)\n",
    "#       First set of K-nearest neighbor indices for each of N points.\n",
    "#\n",
    "#   neighbors2 : numpy.ndarray of shape (N, K)\n",
    "#       Second set of K-nearest neighbor indices for each of the same N points.\n",
    "#\n",
    "# Output:\n",
    "#   result : numpy.ndarray of shape (N,)\n",
    "#       For each point i, the number of overlapping neighbors in neighbors[i] and neighbors2[i],\n",
    "#       divided by K (the number of neighbors).\n",
    "def intersection_perc(neighbors,neighbors2):\n",
    "    if neighbors.shape[0]!= neighbors2.shape[0] or neighbors.shape[1]!= neighbors2.shape[1]:\n",
    "        raise Exception('The given matrices are not of the same size.')\n",
    "        \n",
    "    n= len(neighbors)\n",
    "    res =np.zeros((n))\n",
    "    for i in range(n):\n",
    "        res[i]= len(set(neighbors[i]).intersection(set(neighbors2[i])))/len(neighbors[i])\n",
    "    return res\n",
    "\n",
    "# The function computes the k-nearest neighbors for each sample, ordered from closest to farthest,\n",
    "# based on a given pairwise distance matrix.\n",
    "#\n",
    "# Input:\n",
    "#   dist_mat : ndarray of shape (N, N)\n",
    "#       Pairwise distance matrix where dist_mat[i, j] is the distance between sample i and sample j.\n",
    "#\n",
    "#   k : int\n",
    "#       Number of nearest neighbors to retrieve for each sample.\n",
    "#\n",
    "# Output:\n",
    "#   indsA : ndarray of shape (N, k)\n",
    "#       Each row contains the indices of the k nearest neighbors for that sample,\n",
    "#       sorted from the closest to the farthest neighbor.\n",
    "\n",
    "def get_K_min_inds_sorted(dist_mat,k=50):\n",
    "    \n",
    "    indsA = np.argpartition(dist_mat+np.eye(len(dist_mat))*np.max(dist_mat),k,axis=1)[:,:k]\n",
    "    \n",
    "        \n",
    "    indsB = np.argsort(A[np.arange(len(A))[:,None], indsA],axis=1)\n",
    "    indsA= indsA[np.arange(len(A))[:,None], indsB]\n",
    "    return indsA\n",
    "\n",
    "amount_nn=np.arange(2,51,2)\n",
    "\n",
    "true_nn = np.array( [get_K_min_inds_sorted(cdist(yoda_circ,yoda_circ), np.max(amount_nn)),\\\n",
    "                     get_K_min_inds_sorted(cdist(dog_circ,dog_circ), np.max(amount_nn)),\\\n",
    "                     get_K_min_inds_sorted(cdist(bunny_circ,bunny_circ), np.max(amount_nn))])\n",
    "\n",
    "\n",
    "\n",
    "amount_labels=3\n",
    "\n",
    "K=3\n",
    "permute_types = np.array(list(permutations(range(K))))\n"
   ]
  },
  {
   "cell_type": "code",
   "execution_count": null,
   "id": "702219d2-0b0e-43f1-84da-01b192727a85",
   "metadata": {},
   "outputs": [],
   "source": []
  },
  {
   "cell_type": "markdown",
   "id": "a7765446-40bf-4727-9080-5893513929a1",
   "metadata": {},
   "source": [
    "# Multi-tSNE"
   ]
  },
  {
   "cell_type": "code",
   "execution_count": null,
   "id": "5cb4ddeb-a012-4266-8976-1b47fdc0074a",
   "metadata": {},
   "outputs": [],
   "source": [
    "score_mult_tSNE_nn= np.zeros((len(amount_nn),len(multi_tsne),amount_labels,K,len(x)))\n",
    "\n",
    "for r in range(len(multi_tsne)):\n",
    "    for j in range(K):\n",
    "        cur_dist= cdist( multi_tsne[r][:,:,j], multi_tsne[r][:,:,j])\n",
    "        inds_mult_tSNE = get_K_min_inds_sorted(cur_dist, np.max(amount_nn))\n",
    "        \n",
    "        for i in range(amount_labels):\n",
    "            for s in range(len(amount_nn)):\n",
    "                score_mult_tSNE_nn[s,r,i,j,:]= intersection_perc(true_nn[i][:,:amount_nn[s]], inds_mult_tSNE[:,:amount_nn[s]])\n"
   ]
  },
  {
   "cell_type": "code",
   "execution_count": null,
   "id": "dd0d6281-a506-46e6-ac3e-ed536d9b7dc0",
   "metadata": {},
   "outputs": [],
   "source": [
    "final_score_mult_tSNE= np.zeros((len(amount_nn), len(multi_tsne)))\n",
    "for r in range(len(multi_tsne)):\n",
    "       for i in range(len(amount_nn)):\n",
    "            final_score_mult_tSNE[i,r]= np.max([ np.mean(score_mult_tSNE_nn[i,r,np.arange(K),permute_types[j] ]) for j in range(len(permute_types))])"
   ]
  },
  {
   "cell_type": "code",
   "execution_count": null,
   "id": "f7b5581e-e1f9-47cf-8753-bc8ccd6593cd",
   "metadata": {},
   "outputs": [],
   "source": [
    "final_score_mult_tSNE_nn= np.max(final_score_mult_tSNE,axis=-1)\n",
    "print(multi_tsne_params[np.argmax(final_score_mult_tSNE,axis=-1)])\n",
    "print(final_score_mult_tSNE_nn)"
   ]
  },
  {
   "cell_type": "code",
   "execution_count": null,
   "id": "842fb9ef-438c-4138-ad63-a4c5f282b7a6",
   "metadata": {},
   "outputs": [],
   "source": []
  },
  {
   "cell_type": "markdown",
   "id": "266e40b6-d219-4288-b6bb-83cc8e8e43c0",
   "metadata": {},
   "source": [
    "# IC-PML"
   ]
  },
  {
   "cell_type": "code",
   "execution_count": null,
   "id": "e7aeaa17-dba0-461c-8c2f-320477b385e5",
   "metadata": {
    "scrolled": true
   },
   "outputs": [],
   "source": [
    "score_icpml_nn = np.zeros((len(amount_nn),len(embs_ic_pml),amount_labels,K,ic_pml_max_emb_dim-1,len(x)))\n",
    "\n",
    "for r in range(len(embs_ic_pml)):\n",
    "    print(r)\n",
    "    for j in range(K):\n",
    "\n",
    "        for t,embs_ic_pml_dims in enumerate(np.arange(1,ic_pml_max_emb_dim)):\n",
    "            if np.all(embs_ic_pml[r,j,:,embs_ic_pml_dims-1]==0.):\n",
    "                continue\n",
    "            \n",
    "            cur_dist= cdist(embs_ic_pml[r,j,:,:embs_ic_pml_dims],embs_ic_pml[r,j,:,:embs_ic_pml_dims])\n",
    "            inds_icpml = get_K_min_inds_sorted(cur_dist, np.max(amount_nn))\n",
    "            \n",
    "            for i in range(amount_labels):\n",
    "                for s in range(len(amount_nn)):\n",
    "                    score_icpml_nn[s,r,i,j,t,:]= intersection_perc(true_nn[i][:,:amount_nn[s]], inds_icpml[:,:amount_nn[s]])\n",
    "\n",
    "best_score_icpml_nn_over_dims= np.max(np.mean(score_icpml_nn,axis=-1),axis=-1)\n",
    "best_dims_per_icpml_sol = np.arange(1,ic_pml_max_emb_dim)[np.argmax(np.mean(score_icpml_nn,axis=-1),axis=-1)]"
   ]
  },
  {
   "cell_type": "code",
   "execution_count": null,
   "id": "15c455fa-4af0-4bbf-b2a7-ba225b6e9853",
   "metadata": {},
   "outputs": [],
   "source": [
    "final_score_icpml= np.zeros((len(amount_nn), len(embs_ic_pml)))\n",
    "final_score_icpml_params= np.zeros((len(amount_nn), len(embs_ic_pml)))\n",
    "for r in range(len(embs_ic_pml)):\n",
    "       for i in range(len(amount_nn)):\n",
    "            final_score_icpml[i,r]= np.max([ np.mean(best_score_icpml_nn_over_dims[i,r,np.arange(K),permute_types[j]])  for j in range(len(permute_types))])\n",
    "            final_score_icpml_params[i,r]= np.argmax([ np.mean(best_score_icpml_nn_over_dims[i,r,np.arange(K),permute_types[j]])  for j in range(len(permute_types))])"
   ]
  },
  {
   "cell_type": "code",
   "execution_count": null,
   "id": "9bf093ae-8576-42d4-980c-7b224035eadd",
   "metadata": {},
   "outputs": [],
   "source": [
    "final_score_icpml_nn= np.max(final_score_icpml,axis=-1)\n",
    "best_param_tot_ic_pml = ic_pml_params[np.argmax(final_score_icpml,axis=-1)]\n",
    "\n",
    "print(ic_pml_params[np.argmax(final_score_icpml,axis=-1)])\n",
    "print(final_score_icpml_nn)"
   ]
  },
  {
   "cell_type": "code",
   "execution_count": null,
   "id": "e1770c45-71e8-4521-bf73-e1c9b68a91e4",
   "metadata": {},
   "outputs": [],
   "source": []
  },
  {
   "cell_type": "code",
   "execution_count": null,
   "id": "d8ca0a94-7974-496b-8af6-b0635aba8555",
   "metadata": {},
   "outputs": [],
   "source": []
  },
  {
   "cell_type": "markdown",
   "id": "9db77b85-368e-484b-acc5-f98a1cdb0312",
   "metadata": {},
   "source": [
    "# LDLE"
   ]
  },
  {
   "cell_type": "code",
   "execution_count": null,
   "id": "ca87516e-c5c3-4610-9bed-9c927fed6a19",
   "metadata": {},
   "outputs": [],
   "source": [
    "score_LDLE_nn= np.zeros((len(amount_nn),len(LDLE_nn),amount_labels,len(x)))\n",
    "\n",
    "for s in range(len(amount_nn)):\n",
    "    for j in range(len(LDLE_nn)):\n",
    "        for i in range(amount_labels):        \n",
    "            score_LDLE_nn[s,j,i,:]= intersection_perc(LDLE_nn[j][:,:amount_nn[s]], true_nn[i][:,:amount_nn[s]])\n",
    "            \n",
    "final_score_LDLE_nn= np.max( np.mean(np.mean(score_LDLE_nn,axis=-1),axis=-1),axis=-1)\n",
    "print(final_score_LDLE_nn)"
   ]
  },
  {
   "cell_type": "code",
   "execution_count": null,
   "id": "0412e601-1b80-455a-9c89-7d88a3e99b1a",
   "metadata": {},
   "outputs": [],
   "source": [
    "print(LDLE_parameters[  np.argmax( np.mean(np.mean(score_LDLE_nn,axis=-1),axis=-1),axis=-1)])"
   ]
  },
  {
   "cell_type": "code",
   "execution_count": null,
   "id": "86adafb9-77d8-41c0-8d17-95cfa754bc68",
   "metadata": {},
   "outputs": [],
   "source": []
  },
  {
   "cell_type": "code",
   "execution_count": null,
   "id": "972cd6dd-3198-44f9-a95b-0c61c96e0cd7",
   "metadata": {},
   "outputs": [],
   "source": []
  },
  {
   "cell_type": "code",
   "execution_count": null,
   "id": "9c1d4db8-d248-4bc9-ae19-e81873ae9f20",
   "metadata": {},
   "outputs": [],
   "source": []
  },
  {
   "cell_type": "markdown",
   "id": "feb28d4b-fa7c-43f7-a0e5-6b1bdeee2974",
   "metadata": {},
   "source": [
    "# All features"
   ]
  },
  {
   "cell_type": "code",
   "execution_count": null,
   "id": "e47bd2f5-04b2-4d88-bfa9-61b69024da3e",
   "metadata": {},
   "outputs": [],
   "source": [
    "cur_dist = cdist(x,x)\n",
    "score_all_nn= np.zeros((len(amount_nn), amount_labels, len(x)))\n",
    "\n",
    "inds_all = get_K_min_inds_sorted(cur_dist, np.max(amount_nn))\n",
    "for s in range(len(amount_nn)):\n",
    "    for i in range(amount_labels):    \n",
    "        score_all_nn[s,i,:]= intersection_perc(inds_all[:,:amount_nn[s]], true_nn[i][:,:amount_nn[s]])\n",
    "\n",
    "final_score_all_nn= np.mean(np.mean(score_all_nn,axis=-1),axis=-1)\n",
    "final_score_all_nn"
   ]
  },
  {
   "cell_type": "code",
   "execution_count": null,
   "id": "5be69e1f-6228-4479-a351-eb224c0479cf",
   "metadata": {},
   "outputs": [],
   "source": []
  },
  {
   "cell_type": "markdown",
   "id": "6fd97306-563b-473c-b125-be0c543ac125",
   "metadata": {},
   "source": [
    "# tSNE all"
   ]
  },
  {
   "cell_type": "code",
   "execution_count": null,
   "id": "66b922e1-0528-4a8e-9a01-3b507d82c2b1",
   "metadata": {
    "scrolled": true
   },
   "outputs": [],
   "source": [
    "score_tsne_all_nn= np.zeros((len(amount_nn),len(Tsne_all),amount_labels, len(x)))\n",
    "\n",
    "for j in range(len(Tsne_all)):\n",
    "    dist_all_tsne = cdist( Tsne_all[j],Tsne_all[j])\n",
    "    inds_all_tsne = get_K_min_inds_sorted(dist_all_tsne, np.max(amount_nn))\n",
    "    \n",
    "    for i in range(amount_labels):\n",
    "        for s in range(len(amount_nn)):\n",
    "            score_tsne_all_nn[s,j,i,:]= intersection_perc(inds_all_tsne[:,:amount_nn[s]], true_nn[i][:,:amount_nn[s]])\n",
    "\n",
    "final_score_tsne_all_nn= np.max(np.mean(np.mean(score_tsne_all_nn[:,:,:,:],axis=-1),axis=1),axis=-1)\n",
    "print(Tsne_all_params[np.argmax(np.mean(np.mean(score_tsne_all_nn[:,:,:,:],axis=-1),axis=1),axis=-1)])\n",
    "print(final_score_tsne_all_nn)"
   ]
  },
  {
   "cell_type": "code",
   "execution_count": null,
   "id": "8ec6bea8-f0d1-441e-91bc-4c63b3f99ee4",
   "metadata": {},
   "outputs": [],
   "source": []
  },
  {
   "cell_type": "markdown",
   "id": "4e602ddf-c95d-469a-a13d-11b37bcccb35",
   "metadata": {},
   "source": [
    "# FP Raw"
   ]
  },
  {
   "cell_type": "code",
   "execution_count": null,
   "id": "3f18a3ea-b844-4cda-8565-52ba6acae300",
   "metadata": {},
   "outputs": [],
   "source": [
    "score_FP_raw_nn= np.zeros((len(amount_nn),amount_labels,K,len(x)))\n",
    "\n",
    "for j in range(K):\n",
    "    cur_x = x[:,feature_partitions[j]]\n",
    "    ddd_FP_raw= cdist( cur_x,cur_x)\n",
    "    inds_FP_raw = get_K_min_inds_sorted(ddd_FP_raw, np.max(amount_nn))\n",
    "    \n",
    "    for i in range(amount_labels):\n",
    "        for s in range(len(amount_nn)):\n",
    "            score_FP_raw_nn[s,i,j]= intersection_perc(inds_FP_raw[:,:amount_nn[s]], true_nn[i][:,:amount_nn[s]])\n",
    "\n",
    "\n",
    "final_score_FP_raw_nn= np.zeros((len(amount_nn)))\n",
    "for i in range(len(amount_nn)):\n",
    "    final_score_FP_raw_nn[i]= np.max([ np.mean(score_FP_raw_nn[i,np.arange(K),permute_types[j] ]) for j in range(len(permute_types))])"
   ]
  },
  {
   "cell_type": "code",
   "execution_count": null,
   "id": "e729300d-c2f4-4a55-9340-4ae5959751bc",
   "metadata": {},
   "outputs": [],
   "source": [
    "final_score_FP_raw_nn"
   ]
  },
  {
   "cell_type": "code",
   "execution_count": null,
   "id": "b41bb979-b1ae-4041-a374-8f8dd83d67c6",
   "metadata": {},
   "outputs": [],
   "source": []
  },
  {
   "cell_type": "code",
   "execution_count": null,
   "id": "72364106-d0b7-4c81-a1ef-d300af96e395",
   "metadata": {},
   "outputs": [],
   "source": []
  },
  {
   "cell_type": "markdown",
   "id": "3e3e2c22-2f30-4de2-be41-269b05aa25ea",
   "metadata": {},
   "source": [
    "# FP- tSNE"
   ]
  },
  {
   "cell_type": "code",
   "execution_count": null,
   "id": "4eb3ec99-ee74-47e3-a021-fd2335568736",
   "metadata": {},
   "outputs": [],
   "source": [
    "score_FP_nn= np.zeros((len(amount_nn),amount_labels,K,len(x)))\n",
    "\n",
    "for j in range(K):\n",
    "    ddd_FP= cdist( Tsne_FP[j], Tsne_FP[j])\n",
    "    inds_FP = get_K_min_inds_sorted(ddd_FP, np.max(amount_nn))\n",
    "    \n",
    "    for i in range(amount_labels):\n",
    "        for s in range(len(amount_nn)):\n",
    "            score_FP_nn[s,i,j]= intersection_perc(inds_FP[:,:amount_nn[s]], true_nn[i][:,:amount_nn[s]])\n",
    "\n",
    "\n",
    "final_score_FP_nn= np.zeros((len(amount_nn)))\n",
    "for i in range(len(amount_nn)):\n",
    "    final_score_FP_nn[i]= np.max([ np.mean(score_FP_raw_nn[i,np.arange(K),permute_types[j] ]) for j in range(len(permute_types))])"
   ]
  },
  {
   "cell_type": "code",
   "execution_count": null,
   "id": "f862a105-31d1-4f73-841d-c59c4cb27680",
   "metadata": {},
   "outputs": [],
   "source": [
    "final_score_FP_nn"
   ]
  },
  {
   "cell_type": "markdown",
   "id": "35b246bf-4a88-43b0-aa8e-383f2d93f18d",
   "metadata": {},
   "source": [
    "# Show results"
   ]
  },
  {
   "cell_type": "code",
   "execution_count": null,
   "id": "51cfbdc8-74c1-4516-9caa-e710044b4d4e",
   "metadata": {},
   "outputs": [],
   "source": [
    "plt.rcParams[\"font.family\"] = \"DejaVu Serif\"\n",
    "plt.figure()\n",
    "mark_size=80\n",
    "plt.scatter(amount_nn, 1-final_score_tsne_all_nn,  marker='o',label='tSNE',alpha=0.8,c='red',s=mark_size*1.5)\n",
    "plt.scatter(amount_nn, 1-final_score_FP_nn, marker='h',label='FP (Ours)',alpha=1,c='black',s=mark_size*2)\n",
    "\n",
    "\n",
    "plt.scatter(amount_nn, 1-final_score_icpml_nn, marker='s',label='IC-PML',c='grey',s=mark_size,alpha=.8)\n",
    "plt.scatter(amount_nn, 1-final_score_LDLE_nn,  marker='P',label='LDLE',c='purple',s=mark_size,alpha=1)\n",
    "\n",
    "plt.scatter(amount_nn, 1-final_score_mult_tSNE_nn, marker='d', label='Multi-tSNE',c='blue',s=mark_size*1.5)\n",
    "\n",
    "\n",
    "plt.scatter(amount_nn, 1-final_score_all_nn,  label='All Features',c='lime',alpha=1,s=mark_size*.8, marker= '*')\n",
    "plt.scatter(amount_nn, 1-final_score_FP_raw_nn, marker='^', label='FP Features (Ours)',c='cyan',alpha=0.8,s=mark_size,  linewidths=.5, edgecolor='black')\n",
    "\n",
    "legend= plt.legend(loc='upper right',fontsize=12,framealpha=0.8)\n",
    "for handle in legend.legend_handles:\n",
    "    handle.set_alpha(1)\n",
    "\n",
    "plt.xlabel('K-Nearest Neighbors',fontsize=13)\n",
    "plt.ylabel('Error',fontsize=13)\n",
    "plt.title('',fontsize=15)\n"
   ]
  },
  {
   "cell_type": "code",
   "execution_count": null,
   "id": "2a2e99e4-110f-4827-94ad-798c0eff5faa",
   "metadata": {},
   "outputs": [],
   "source": []
  }
 ],
 "metadata": {
  "kernelspec": {
   "display_name": "Python 3 (ipykernel)",
   "language": "python",
   "name": "python3"
  },
  "language_info": {
   "codemirror_mode": {
    "name": "ipython",
    "version": 3
   },
   "file_extension": ".py",
   "mimetype": "text/x-python",
   "name": "python",
   "nbconvert_exporter": "python",
   "pygments_lexer": "ipython3",
   "version": "3.10.0"
  }
 },
 "nbformat": 4,
 "nbformat_minor": 5
}
