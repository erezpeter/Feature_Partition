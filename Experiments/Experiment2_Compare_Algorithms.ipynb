{
 "cells": [
  {
   "cell_type": "code",
   "execution_count": null,
   "id": "06f8a1cf-1d38-4ba5-a2f4-ddc834b41d7b",
   "metadata": {},
   "outputs": [],
   "source": [
    "import numpy as np\n",
    "import scipy\n",
    "import scipy.spatial\n",
    "from scipy.spatial.distance import squareform,pdist,cdist\n",
    "import matplotlib.pyplot as plt\n",
    "from scipy.io import mmread\n",
    "\n",
    "from sklearn.manifold import TSNE\n",
    "from joblib import Parallel, delayed\n",
    "\n",
    "from timeit import default_timer as timer\n",
    "\n",
    "import scanpy as sc\n",
    "import anndata as ad\n",
    "\n",
    "\n",
    "from scipy.sparse import csr_matrix\n",
    "import pandas as pd\n",
    "import anndata as ad\n"
   ]
  },
  {
   "cell_type": "code",
   "execution_count": null,
   "id": "194c32b0-dbd2-4026-ae94-c6184b21b9c6",
   "metadata": {},
   "outputs": [],
   "source": [
    "import sys\n",
    "import os\n",
    "\n",
    "# Add the parent directory to sys.path\n",
    "sys.path.append(os.path.abspath('..'))\n"
   ]
  },
  {
   "cell_type": "code",
   "execution_count": null,
   "id": "348fa492-34b7-4e75-9eae-5e98734dc31a",
   "metadata": {},
   "outputs": [],
   "source": [
    "# Load data and extracted angle information from Experiment2_Dermal_5K_Genes.ipynb\n",
    "# (The experiment that partitioned the three figurine images into 3 partitions (K=3))\n",
    "f= np.load('',allow_pickle=True).item()\n"
   ]
  },
  {
   "cell_type": "code",
   "execution_count": null,
   "id": "dec07ef2-0bf1-4cac-b540-a888f8ad5a45",
   "metadata": {},
   "outputs": [],
   "source": [
    "x_svd = f['x_SVD']\n",
    "phase_types= f['phase_types']\n",
    "cell_types= f['cell_types']\n",
    "gene_names= f['gene_names']\n",
    "omega= f['omega']\n",
    "feature_partitions= f['feature_partitions']\n",
    "\n",
    "del f"
   ]
  },
  {
   "cell_type": "code",
   "execution_count": null,
   "id": "72b60fa2-e90a-4c63-8eea-36736e2e688d",
   "metadata": {},
   "outputs": [],
   "source": [
    "K=2"
   ]
  },
  {
   "cell_type": "markdown",
   "id": "10aef24a-ab12-4d74-9130-11002e03c4d0",
   "metadata": {},
   "source": [
    "# Run algorithms on data"
   ]
  },
  {
   "cell_type": "markdown",
   "id": "053af379-f357-459f-ac2e-7d1f6fb23c5d",
   "metadata": {},
   "source": [
    "### Multi-tSNE"
   ]
  },
  {
   "cell_type": "code",
   "execution_count": null,
   "id": "d933919d-fdbf-454b-b76d-9c59fe2326cc",
   "metadata": {},
   "outputs": [],
   "source": [
    "# Clone the py_mmtsne repository (uncomment to execute)\n",
    "# !git clone https://github.com/gsaygili/py_mmtsne.git\n",
    "\n",
    "# This code uses the repository at commit: fd8d39ed43b254cbb9bf0e776a9a394e894a4b40\n"
   ]
  },
  {
   "cell_type": "code",
   "execution_count": null,
   "id": "ee7b579f-7c05-4830-991b-b1f37dac179a",
   "metadata": {},
   "outputs": [],
   "source": [
    "from sklearn.manifold import _utils\n",
    "from sklearn.metrics.pairwise import _VALID_METRICS, pairwise_distances\n",
    "\n",
    "# The function extracts the joint probability matrix P from t-SNE based on the given data.\n",
    "#\n",
    "# Input:\n",
    "#   data : ndarray of shape (N, D)\n",
    "#       Input data matrix with N samples and D features.\n",
    "#\n",
    "#   perplexity : float\n",
    "#       Perplexity parameter used to set the bandwidth of the conditional distributions in t-SNE.\n",
    "#\n",
    "# Output:\n",
    "#   P : ndarray of shape (N, N)\n",
    "#       Symmetrized joint probability matrix used in the t-SNE objective.\n",
    "\n",
    "def get_tSNE_P(data,perplexity):\n",
    "    distances = pairwise_distances(data, squared=True).astype(np.float32, copy=False)\n",
    "    conditional_P = _utils._binary_search_perplexity(distances, perplexity, False)\n",
    "    P = conditional_P + conditional_P.T\n",
    "    P = np.maximum(P / np.sum(P), np.finfo(float).eps)\n",
    "    return P\n"
   ]
  },
  {
   "cell_type": "code",
   "execution_count": null,
   "id": "ffd221f9-228b-4641-bfd0-65565b6df212",
   "metadata": {},
   "outputs": [],
   "source": [
    "from py_mmtsne.multmaps_tsne import mult_maps_tsne \n"
   ]
  },
  {
   "cell_type": "code",
   "execution_count": null,
   "id": "f7fa102f-4052-4913-907e-f99da8cd204b",
   "metadata": {
    "scrolled": true
   },
   "outputs": [],
   "source": [
    "# Generate two embeddings for each parameter setting, where each parameter is a tuple: \n",
    "# the first element specifies the perplexity, and the second defines the embedding dimension used in the generated embeddings\n",
    "\n",
    "multi_tsne_params= np.array([[5,2],[10,2],[20,2],[40,2],[5,3],[10,3],[20,3],[40,3]])\n",
    "\n",
    "multi_tsne = [mult_maps_tsne( get_tSNE_P(x_svd[0]*x_svd[1],multi_tsne_params[i][0]), no_maps=K, no_dims=multi_tsne_params[i][1], max_iter=200)[0]  for i in range(len(multi_tsne_params))]"
   ]
  },
  {
   "cell_type": "markdown",
   "id": "ec879c60-e989-4d15-8396-98cc6ee4677f",
   "metadata": {},
   "source": [
    "### IC-PML"
   ]
  },
  {
   "cell_type": "code",
   "execution_count": null,
   "id": "3fba1352-e851-419c-a09c-28d0522ccb70",
   "metadata": {},
   "outputs": [],
   "source": [
    "# Clone the ic-pml repository (uncomment to execute)\n",
    "# !git clone https://github.com/he-jesse/ic-pml.git\n",
    "\n",
    "# This code uses the repository at commit: 527c7d9169db88913cd1dc5e417355a1d68ae18f"
   ]
  },
  {
   "cell_type": "code",
   "execution_count": null,
   "id": "d895029d-e4e3-440b-86d2-d78cb6dab586",
   "metadata": {},
   "outputs": [],
   "source": [
    "# The code was modified to ensure it runs without errors:\n",
    "# - Commented out `load_latex_preamble()` in `ic-pml/_configure.py`\n",
    "# - Commented out `import matlab.engine` in `methods.py`"
   ]
  },
  {
   "cell_type": "code",
   "execution_count": null,
   "id": "b315ad8c-3c40-4507-acc7-dc3d010ad70f",
   "metadata": {},
   "outputs": [],
   "source": [
    "# Importing functions from `methods.py` in the `ic-pml` subdirectory\n",
    "# by temporarily changing the working directory\n",
    "#\n",
    "# import os\n",
    "# os.chdir('ic-pml')\n",
    "# from methods import *\n",
    "# os.chdir('..')"
   ]
  },
  {
   "cell_type": "code",
   "execution_count": null,
   "id": "20839361-5184-4510-9f47-205e5f0521fc",
   "metadata": {},
   "outputs": [],
   "source": []
  },
  {
   "cell_type": "code",
   "execution_count": null,
   "id": "09a0fdf2-1820-4cc4-b8bf-cab068b5a8df",
   "metadata": {
    "scrolled": true
   },
   "outputs": [],
   "source": [
    "from scipy.spatial.distance import cdist\n",
    "\n",
    "# Computes the largest Euclidean distance from any point to one of its k-nearest neighbors\n",
    "def get_max_knn(dist_mat, k):\n",
    "    return np.max(np.partition(dist_mat,1+k)[:,1+k])\n",
    "\n",
    "# The maximal embedding dimension in each partition\n",
    "ic_pml_max_emb_dim=5\n",
    "\n",
    "# Compute the Euclidean distance matrix\n",
    "cur_dis_matrix= cdist(x,x)**2\n",
    "\n",
    "eps_arr= [get_max_knn(cur_dis_matrix, i) for i in [5,10,20,40]]\n",
    "sim_crit= [0.01,0.03,0.05, 0.1,0.3,0.5]\n",
    "eig_crit= [0.01,0.03,0.05, 0.1,0.3,0.5,1,2]\n",
    "\n",
    "# Generate two embeddings for each parameter setting.\n",
    "# Each parameter is a triplet where:\n",
    "# * the first element specifies the bandwidth of the affinity matrix,\n",
    "# * the second defines the similarity criterion value,\n",
    "# * and the third sets the eigenvalue criterion.\n",
    "\n",
    "embs_ic_pml= np.zeros(( len(eps_arr)*len(sim_crit)*len(eig_crit),2,len(x_svd[0]),5))\n",
    "embs_ic_pml_dims= np.zeros(( len(eps_arr)*len(sim_crit)*len(eig_crit),K))\n",
    "\n",
    "for i,(eps_used, sim_crit_used,eig_crit_used) in enumerate([  (a,b,c) for a in eps_arr for b in sim_crit for c in eig_crit]):\n",
    "    print(str(i)+' '+str(len(eps_arr)* len(sim_crit)*len(eig_crit)))\n",
    "    try: \n",
    "        fact = factorize(x_svd[0]*x_svd[1], sigma=eps_used, n_factors = 2, sim_crit=sim_crit_used, eig_crit=eig_crit_used, n_eigenvectors=50)\n",
    "    \n",
    "        for s in range(K):\n",
    "            eigs_used = np.array(fact['manifolds'][s][:5])\n",
    "            embs_ic_pml[i,s,:,:len(eigs_used)]=  fact['phi'][:, eigs_used]\n",
    "            embs_ic_pml_dims[i,s]= len(eigs_used)\n",
    "    except Exception as e:\n",
    "        continue           "
   ]
  },
  {
   "cell_type": "code",
   "execution_count": null,
   "id": "6b2a992e-0f92-4656-a166-31437e8a0cb7",
   "metadata": {},
   "outputs": [],
   "source": [
    "ic_pml_params= np.array([  (a,b,c) for a in eps_arr for b in sim_crit for c in eig_crit])"
   ]
  },
  {
   "cell_type": "code",
   "execution_count": null,
   "id": "77dde822-8cc7-45d3-9a48-782540be1cd1",
   "metadata": {},
   "outputs": [],
   "source": []
  },
  {
   "cell_type": "code",
   "execution_count": null,
   "id": "c02d0cd9-4096-4aaf-af6a-49504aa3c4cc",
   "metadata": {},
   "outputs": [],
   "source": []
  },
  {
   "cell_type": "markdown",
   "id": "01668e0b-d90b-4114-974b-8c3e2b74561c",
   "metadata": {},
   "source": [
    "### LDLE"
   ]
  },
  {
   "cell_type": "code",
   "execution_count": null,
   "id": "5f1bf9e9-dbcd-4a32-a22d-fee04258e58c",
   "metadata": {
    "scrolled": true
   },
   "outputs": [],
   "source": [
    "from pyLDLE2 import buml_, util_\n",
    "from scipy.sparse.csgraph import floyd_warshall, shortest_path\n",
    "from sklearn.neighbors import NearestNeighbors\n",
    "\n",
    "# The function computes the k-nearest neighbors for each sample, ordered from closest to farthest,\n",
    "# based on a given pairwise distance matrix.\n",
    "#\n",
    "# Input:\n",
    "#   dist_mat : ndarray of shape (N, N)\n",
    "#       Pairwise distance matrix where dist_mat[i, j] is the distance between sample i and sample j.\n",
    "#\n",
    "#   k : int\n",
    "#       Number of nearest neighbors to retrieve for each sample.\n",
    "#\n",
    "# Output:\n",
    "#   indsA : ndarray of shape (N, k)\n",
    "#       Each row contains the indices of the k nearest neighbors for that sample,\n",
    "#       sorted from the closest to the farthest neighbor.\n",
    "def get_K_min_inds_sorted(dist_mat,k=50):\n",
    "    indsA = np.argpartition(dist_mat+np.eye(len(dist_mat))*np.max(dist_mat),k,axis=1)[:,:k]\n",
    "        \n",
    "    indsB = np.argsort(dist_mat[np.arange(len(dist_mat))[:,None], indsA],axis=1)\n",
    "    indsA= indsA[np.arange(len(A))[:,None], indsB]\n",
    "    return indsA\n",
    "\n",
    "# Copied from `pyLDLE2/util_.py` to identify nearest neighbors in a torned embedding,\n",
    "# using the same approach as in the original paper’s analysis.\n",
    "def shortest_paths(X, n_nbrs):\n",
    "    nbrs = NearestNeighbors(n_neighbors=n_nbrs).fit(X)\n",
    "    knn_graph = nbrs.kneighbors_graph(mode='distance')\n",
    "    dist_matrix, predecessors = shortest_path(knn_graph, return_predecessors=True, directed=False)\n",
    "    return dist_matrix, predecessors\n",
    "\n",
    "\n",
    "# Defined in order to allow the code to run\n",
    "np.int= int\n",
    "\n",
    "\n",
    "# Generate a single embedding for each parameter setting.\n",
    "# Each parameter is a quadruplet where:\n",
    "#   * the first element specifies the eta parameter,\n",
    "#   * the second defines the k_tune parameter,\n",
    "#   * the third sets the embedding dimension,\n",
    "#   * and the fourth indicates whether the embedding should be torned.\n",
    "#\n",
    "# Then, extract the k-nearest neighbors of each point based on the generated embedding.\n",
    "# For the torned case, we follow the same procedure as in `compute_global_distortions()`\n",
    "# from `pyLDLE2/util_.py`.\n",
    "\n",
    "LDLE_parameters= np.zeros((32,4))\n",
    "LDLE_embs= []\n",
    "LDLE_nn=[]\n",
    "s= 0 \n",
    "for eta in [10,20]:\n",
    "    for k_tune in [5,10,20,40]:\n",
    "        for d in [2,3]:\n",
    "            for is_torn in [False, True]:\n",
    "                print('------------***********************')\n",
    "                print(str(s)+'   '+str(eta)+'   '+str(k_tune)+'   '+str(d)+'   '+str(is_torn))\n",
    "                LDLE_parameters[s,:]= np.array([eta,d,is_torn,k_tune])\n",
    "                s+=1\n",
    "                \n",
    "                buml_obj = buml_.BUML(d=d, local_opts={'algo':'LDLE', 'k_tune':k_tune}, global_opts={'to_tear':is_torn},\\\n",
    "                          intermed_opts={'eta_min': eta})\n",
    "                \n",
    "                emb_ldle = buml_obj.fit(X= (x_svd[0]*x_svd[1]))\n",
    "                LDLE_embs.append(emb_ldle+0.)\n",
    "                if is_torn:\n",
    "                    n_nbr =20\n",
    "                    y_s_d_e, _ = shortest_paths(buml_obj.GlobalViews.y_final+0., n_nbr)\n",
    "                    intermed_param = buml_obj.IntermedViews.intermed_param\n",
    "                    Utilde = buml_obj.IntermedViews.Utilde\n",
    "                    C = buml_obj.IntermedViews.C\n",
    "                    global_opts = buml_obj.global_opts\n",
    "                    cur_dists = buml_obj.GlobalViews.compute_pwise_dist_in_embedding(intermed_param,\n",
    "                                                                                Utilde, C, global_opts,\n",
    "                                                                                dist=y_s_d_e, y=buml_obj.GlobalViews.y_final+0.)\n",
    "                    \n",
    "                else:\n",
    "                    cur_dists= emb_ldle@emb_ldle.T\n",
    "                    cur_dists= np.diag(cur_dists)[:,None]+np.diag(cur_dists)[None,:]-2*cur_dists\n",
    "    \n",
    "                LDLE_nn.append(get_K_min_inds_sorted(cur_dists))\n",
    "    \n"
   ]
  },
  {
   "cell_type": "markdown",
   "id": "ced8e89a-85cf-4248-80fe-d34f5d4114ff",
   "metadata": {},
   "source": [
    "### tSNE on all features"
   ]
  },
  {
   "cell_type": "code",
   "execution_count": null,
   "id": "4a9a0a8e-f4aa-486b-a92c-c3eac38a8fd5",
   "metadata": {},
   "outputs": [],
   "source": [
    "# Generate a single embedding for each parameter setting.\n",
    "# Each parameter is a pair where:\n",
    "#   * the first element sets the embedding dimension,\n",
    "#   * the second defines the perplexity parameter.\n",
    "\n",
    "Tsne_all_params= np.array([[2,5],[2,10],[2,20],[2,40],[3,5],[3,10],[3,20],[3,40]])\n",
    "\n",
    "Tsne_all = [TSNE(n_components=Tsne_all_params[i][0], perplexity=Tsne_all_params[i][1], random_state=42).fit_transform(x_svd[0]*x_svd[1]) for i in range(len(Tsne_all_params))]\n"
   ]
  },
  {
   "cell_type": "code",
   "execution_count": null,
   "id": "9605d115-2a0e-47dc-8843-d7fec4dacac3",
   "metadata": {},
   "outputs": [],
   "source": []
  },
  {
   "cell_type": "markdown",
   "id": "e190e75c-b738-45c0-9872-a4012c799de5",
   "metadata": {},
   "source": [
    "### tSNE FP"
   ]
  },
  {
   "cell_type": "code",
   "execution_count": null,
   "id": "2a11b1be-6a0a-41da-80fb-3d1de465bc6f",
   "metadata": {},
   "outputs": [],
   "source": [
    "# Generate a single embedding for the data based on each of the extracted partitions\n",
    "\n",
    "Tsne_FP= [TSNE(n_components=3, perplexity=40, random_state=42).fit_transform((x_svd[0]*x_svd[1])@x_svd[2][:,feature_partitions[i]]) for i in range(2)]"
   ]
  },
  {
   "cell_type": "code",
   "execution_count": null,
   "id": "96b1b0ba-e2d0-4fa8-9721-fabaf72df857",
   "metadata": {},
   "outputs": [],
   "source": []
  },
  {
   "cell_type": "markdown",
   "id": "7514aa5f-f568-4608-aa76-ef10a51224b6",
   "metadata": {},
   "source": [
    "# Evaluation of generated embeddings\n",
    "\n",
    "### The following procedure is performed for each value of K (number of nearest neighbors).\n",
    "###\n",
    "### First, for each embedding, compute the K-nearest neighbor (KNN) classification error of each sample \n",
    "### based on each biological process annotation (cell-type development, and cell-cycle progression). \n",
    "#### The KNN error is defined as the number of incorrectly estimated neighbors divided by K.\n",
    "###\n",
    "### Then, for each embedding and biological process, compute a score defined as the average KNN error \n",
    "### across all samples.\n",
    "###\n",
    "### Next, for each pair of embeddings, compute the average score when each embedding is \n",
    "### paired with a distinct biological process. Take the minimal score across all valid matchings.\n",
    "###\n",
    "### Finally, for each value of K, return the pair of embeddings with the lowest matching score.\n",
    "###\n",
    "### * In the case of single embeddings, the score is computed by matching the same embedding \n",
    "###   to each of the biological processes individually and then averaging the resulting scores, \n",
    "###   as if the same embedding were used for all biological processes.\n"
   ]
  },
  {
   "cell_type": "code",
   "execution_count": null,
   "id": "5791385d-5526-4e7c-917e-2b925eb788a6",
   "metadata": {},
   "outputs": [],
   "source": [
    "from itertools import permutations\n",
    "\n",
    "# The function returns the mean K-nearest neighbors accuracy for each sample.\n",
    "# \n",
    "# Input:\n",
    "#             neighbors: N-by-K numpy array, where N is the number of samples, and K is some integer.\n",
    "#\n",
    "#             labels: numpy array of size N, that includes the samples' labels.\n",
    "# \n",
    "# Output:\n",
    "#             result: numpy array of size N, including the average K-nearest neighbor accuracy for each  sample.\n",
    "#\n",
    "def get_knn_accuracy(neighbors,labels):       \n",
    "    n= len(neighbors)\n",
    "    return  np.mean(labels[neighbors]==labels[:,None],axis=1)\n",
    "\n",
    "# The function computes the k-nearest neighbors for each sample, ordered from closest to farthest,\n",
    "# based on a given pairwise distance matrix.\n",
    "#\n",
    "# Input:\n",
    "#   dist_mat : ndarray of shape (N, N)\n",
    "#       Pairwise distance matrix where dist_mat[i, j] is the distance between sample i and sample j.\n",
    "#\n",
    "#   k : int\n",
    "#       Number of nearest neighbors to retrieve for each sample.\n",
    "#\n",
    "# Output:\n",
    "#   indsA : ndarray of shape (N, k)\n",
    "#       Each row contains the indices of the k nearest neighbors for that sample,\n",
    "#       sorted from the closest to the farthest neighbor.\n",
    "def get_K_min_inds_sorted(dist_mat,k=50):\n",
    "    indsA = np.argpartition(dist_mat+np.eye(len(dist_mat))*np.max(dist_mat),k,axis=1)[:,:k]\n",
    "        \n",
    "    indsB = np.argsort(A[np.arange(len(A))[:,None], indsA],axis=1)\n",
    "    indsA= indsA[np.arange(len(A))[:,None], indsB]\n",
    "    return indsA\n",
    "\n",
    "\n",
    "\n",
    "amount_nn=np.arange(2,51,2)\n",
    "amount_labels=2\n",
    "K=2\n",
    "permute_types = np.array(list(permutations(range(K))))\n"
   ]
  },
  {
   "cell_type": "markdown",
   "id": "5b4f2b89-7d73-4f18-981b-4d1cc9dc094f",
   "metadata": {},
   "source": []
  },
  {
   "cell_type": "markdown",
   "id": "46fcb182-15db-454f-bf89-cd71962a3dd5",
   "metadata": {},
   "source": [
    "### multi- tSNE"
   ]
  },
  {
   "cell_type": "code",
   "execution_count": null,
   "id": "a479157c-366f-48a9-8444-8ba054b8f82b",
   "metadata": {},
   "outputs": [],
   "source": [
    "score_mult_tSNE_nn= np.zeros((len(amount_nn),len(multi_tsne),amount_labels,K,len(x_svd[0])))\n",
    "\n",
    "for r in range(len(multi_tsne)):\n",
    "    for j in range(2):\n",
    "        cur_dist= cdist( multi_tsne[r][:,:,j], multi_tsne[r][:,:,j])\n",
    "        inds_mult_tSNE = get_K_min_inds_sorted(cur_dist, np.max(amount_nn))\n",
    "        \n",
    "        for i,labels in enumerate([cell_types,phase_types]):\n",
    "            for s in range(len(amount_nn)):\n",
    "                score_mult_tSNE_nn[s,r,i,j,:]= get_knn_accuracy(inds_mult_tSNE[:,:amount_nn[s]], labels)"
   ]
  },
  {
   "cell_type": "code",
   "execution_count": null,
   "id": "8870e974-ce08-44bf-b852-87704d57a233",
   "metadata": {},
   "outputs": [],
   "source": [
    "final_score_mult_tSNE= np.zeros((len(amount_nn), len(multi_tsne)))\n",
    "for r in range(len(multi_tsne)):\n",
    "       for i in range(len(amount_nn)):\n",
    "            final_score_mult_tSNE[i,r]= np.max([ np.mean(score_mult_tSNE_nn[i,r,np.arange(K),permute_types[j] ]) for j in range(len(permute_types))])"
   ]
  },
  {
   "cell_type": "code",
   "execution_count": null,
   "id": "4ae7fa62-f89d-471d-bd18-beed31d37975",
   "metadata": {
    "scrolled": true
   },
   "outputs": [],
   "source": [
    "final_score_mult_tSNE_nn= np.max(final_score_mult_tSNE,axis=-1)\n",
    "print(multi_tsne_params[np.argmax(final_score_mult_tSNE,axis=-1)])\n",
    "print(final_score_mult_tSNE_nn)"
   ]
  },
  {
   "cell_type": "code",
   "execution_count": null,
   "id": "bf8540a4-7186-4ff4-92cf-bd42590dbeeb",
   "metadata": {},
   "outputs": [],
   "source": []
  },
  {
   "cell_type": "markdown",
   "id": "f21a1bbf-8a2a-4498-9bef-567dcfcf7096",
   "metadata": {},
   "source": [
    "# IC-PML"
   ]
  },
  {
   "cell_type": "code",
   "execution_count": null,
   "id": "be3b949c-923d-4075-87e8-5184b8a05428",
   "metadata": {
    "scrolled": true
   },
   "outputs": [],
   "source": [
    "score_icpml_nn = np.zeros((len(amount_nn),len(embs_ic_pml),amount_labels,K,ic_pml_max_emb_dim-1,len(x_svd[0])))\n",
    "\n",
    "for r in range(len(embs_ic_pml)):\n",
    "    for j in range(K):\n",
    "\n",
    "        for t,embs_ic_pml_dims in enumerate(np.arange(1,ic_pml_max_emb_dim)):\n",
    "            \n",
    "            cur_dist= cdist(embs_ic_pml[r,j,:,:embs_ic_pml_dims],embs_ic_pml[r,j,:,:embs_ic_pml_dims])\n",
    "            inds_icpml = get_K_min_inds_sorted(cur_dist, np.max(amount_nn))\n",
    "            \n",
    "            for i,labels in enumerate([cell_types,phase_types]):\n",
    "                for s in range(len(amount_nn)):\n",
    "                    score_icpml_nn[s,r,i,j,t,:]= get_knn_accuracy(inds_icpml[:,:amount_nn[s]], labels)\n",
    "                    \n",
    "                    \n",
    "best_score_icpml_nn_over_dims= np.max(np.mean(score_icpml_nn,axis=-1),axis=-1)\n",
    "best_dims_per_icpml_sol = np.arange(1,ic_pml_max_emb_dim)[np.argmax(np.mean(score_icpml_nn,axis=-1),axis=-1)]"
   ]
  },
  {
   "cell_type": "code",
   "execution_count": null,
   "id": "feb5cff0-81dc-4a30-bd0c-0e5fdaefc26b",
   "metadata": {},
   "outputs": [],
   "source": [
    "final_score_icpml= np.zeros((len(amount_nn), len(embs_ic_pml)))\n",
    "for r in range(len(embs_ic_pml)):\n",
    "       for i in range(len(amount_nn)):\n",
    "            final_score_icpml[i,r]= np.max([ np.mean(best_score_icpml_nn_over_dims[i,r,np.arange(K),permute_types[j]])  for j in range(len(permute_types))])\n"
   ]
  },
  {
   "cell_type": "code",
   "execution_count": null,
   "id": "3c7481b1-5210-4222-8bfa-3458d45e43fb",
   "metadata": {
    "scrolled": true
   },
   "outputs": [],
   "source": [
    "final_score_icpml_nn= np.max(final_score_icpml,axis=-1)\n",
    "print(ic_pml_params[np.argmax(final_score_icpml,axis=-1)])\n",
    "print(final_score_icpml_nn)"
   ]
  },
  {
   "cell_type": "code",
   "execution_count": null,
   "id": "543ad502-6640-4446-b023-1fc26333b9b9",
   "metadata": {},
   "outputs": [],
   "source": []
  },
  {
   "cell_type": "markdown",
   "id": "8ed20476-4670-4e4f-a8ac-0212c5c26e26",
   "metadata": {},
   "source": [
    "### LDLE"
   ]
  },
  {
   "cell_type": "code",
   "execution_count": null,
   "id": "24aeddfd-8b0c-4a5e-9296-aad3bd3abbde",
   "metadata": {},
   "outputs": [],
   "source": [
    "score_LDLE_nn= np.zeros((len(amount_nn),len(LDLE_nn),amount_labels,len(x_svd[0])))\n",
    "\n",
    "for s in range(len(amount_nn)):\n",
    "    for j in range(len(LDLE_nn)):\n",
    "        for i,labels in enumerate([cell_types,phase_types]):\n",
    "            score_LDLE_nn[s,j,i,:]= get_knn_accuracy(LDLE_nn[j][:,:amount_nn[s]], labels)\n",
    "\n",
    "\n",
    "\n",
    "final_score_LDLE_nn= np.max( np.mean(np.mean(score_LDLE_nn,axis=-1),axis=-1),axis=-1)\n",
    "print(final_score_LDLE_nn)"
   ]
  },
  {
   "cell_type": "code",
   "execution_count": null,
   "id": "f7b4ddad-9686-4d24-a063-c89e30ae0ef2",
   "metadata": {
    "scrolled": true
   },
   "outputs": [],
   "source": [
    "print(LDLE_parameters[  np.argmax( np.mean(np.mean(score_LDLE_nn,axis=-1),axis=-1),axis=-1)])"
   ]
  },
  {
   "cell_type": "markdown",
   "id": "60c64653-800f-435f-b41a-d20819c7e662",
   "metadata": {},
   "source": [
    "# all features"
   ]
  },
  {
   "cell_type": "code",
   "execution_count": null,
   "id": "d8ca6a01-9c8e-4d9d-9c26-09bf29fe57bf",
   "metadata": {},
   "outputs": [],
   "source": [
    "cur_dist = cdist(x_svd[0]*x_svd[1], x_svd[0]*x_svd[1])\n",
    "score_all_nn= np.zeros((len(amount_nn), amount_labels, len(x_svd[0])))\n",
    "\n",
    "inds_all = get_K_min_inds_sorted(cur_dist, np.max(amount_nn))\n",
    "for s in range(len(amount_nn)):\n",
    "    for i,labels in enumerate([cell_types,phase_types]):\n",
    "        score_all_nn[s,i,:]=  get_knn_accuracy(inds_all[:,:amount_nn[s]], labels)\n",
    "\n",
    "\n",
    "final_score_all_nn= np.mean(np.mean(score_all_nn,axis=-1),axis=-1)\n",
    "final_score_all_nn"
   ]
  },
  {
   "cell_type": "code",
   "execution_count": null,
   "id": "7183f0ef-b4c6-4baa-8cbc-5c4355671343",
   "metadata": {},
   "outputs": [],
   "source": []
  },
  {
   "cell_type": "markdown",
   "id": "f01bcaec-4552-4335-aeb3-98b466268e22",
   "metadata": {},
   "source": [
    "# tSNE all"
   ]
  },
  {
   "cell_type": "code",
   "execution_count": null,
   "id": "d77fac1c-da2a-4e65-9339-73fe3a11a633",
   "metadata": {
    "scrolled": true
   },
   "outputs": [],
   "source": [
    "score_tsne_all_nn= np.zeros((len(amount_nn),len(Tsne_all),amount_labels, len(x_svd[0])))\n",
    "\n",
    "for j in range(len(Tsne_all)):\n",
    "        \n",
    "    dist_all_tsne = cdist( Tsne_all[j],Tsne_all[j])\n",
    "    inds_all_tsne = get_K_min_inds_sorted(dist_all_tsne, np.max(amount_nn))\n",
    "    \n",
    "    for i,labels in enumerate([cell_types,phase_types]):\n",
    "        for s in range(len(amount_nn)):\n",
    "            score_tsne_all_nn[s,j,i,:]= get_knn_accuracy(inds_all_tsne[:,:amount_nn[s]], labels)\n",
    "\n",
    "final_score_tsne_all_nn= np.max(np.mean(np.mean(score_tsne_all_nn[:,:,:,:],axis=-1),axis=-1),axis=-1)\n",
    "print(Tsne_all_params[np.argmax(np.mean(np.mean(score_tsne_all_nn[:,:,:,:],axis=-1),axis=-1),axis=-1)])\n",
    "print(final_score_tsne_all_nn)"
   ]
  },
  {
   "cell_type": "code",
   "execution_count": null,
   "id": "076ea296-2599-4797-ba32-4e60a084ba7d",
   "metadata": {},
   "outputs": [],
   "source": []
  },
  {
   "cell_type": "markdown",
   "id": "d4d6eaa9-dee6-42b0-b99a-c38bf0b00232",
   "metadata": {},
   "source": [
    "# FP - raw"
   ]
  },
  {
   "cell_type": "code",
   "execution_count": null,
   "id": "762def1c-eafd-42a3-8872-08e16489c0f6",
   "metadata": {},
   "outputs": [],
   "source": [
    "score_FP_raw_nn= np.zeros((len(amount_nn),amount_labels,K,len(x_svd[0])))\n",
    "\n",
    "for j in range(K):\n",
    "    cur_x = (x_svd[0]*x_svd[1])@ x_svd[2][:,feature_partitions[j]]\n",
    "    cur_dist_raw= cdist( cur_x,cur_x)\n",
    "    inds_FP_raw = get_K_min_inds_sorted(cur_dist_raw, np.max(amount_nn))\n",
    "    \n",
    "    for i,labels in enumerate([cell_types,phase_types]):\n",
    "        for s in range(len(amount_nn)):\n",
    "            score_FP_raw_nn[s,i,j]= get_knn_accuracy(inds_FP_raw[:,:amount_nn[s]], labels)\n",
    "\n",
    "# Compute the average k-nearest neighbors accuracy across biological processes\n",
    "final_score_FP_raw_nn= np.zeros((len(amount_nn)))\n",
    "for i in range(len(amount_nn)):\n",
    "    final_score_FP_raw_nn[i]= np.max([ np.mean(score_FP_raw_nn[i,np.arange(K),permute_types[j] ]) for j in range(len(permute_types))])"
   ]
  },
  {
   "cell_type": "code",
   "execution_count": null,
   "id": "de69061d-4571-4ecf-8a6c-202060b85fcb",
   "metadata": {},
   "outputs": [],
   "source": []
  },
  {
   "cell_type": "markdown",
   "id": "c6c11635-5a47-41cc-ac33-691af9360483",
   "metadata": {},
   "source": [
    "# FP - tSNE"
   ]
  },
  {
   "cell_type": "code",
   "execution_count": null,
   "id": "d44e2265-1f18-466e-a238-609039cbb3a1",
   "metadata": {},
   "outputs": [],
   "source": [
    "\n",
    "score_FP_nn= np.zeros((len(amount_nn),amount_labels,K,len(x_svd[0])))\n",
    "\n",
    "for j in range(K):\n",
    "    cur_dist= cdist( Tsne_FP[j], Tsne_FP[j])\n",
    "    inds_FP = get_K_min_inds_sorted(cur_dist, np.max(amount_nn))\n",
    "    \n",
    "    for i,labels in enumerate([cell_types,phase_types]):\n",
    "        for s in range(len(amount_nn)):\n",
    "            score_FP_nn[s,i,j]= get_knn_accuracy(inds_FP_raw[:,:amount_nn[s]], labels)\n",
    "\n",
    "final_score_FP_nn= np.zeros((len(amount_nn)))\n",
    "for i in range(len(amount_nn)):\n",
    "    final_score_FP_nn[i]= np.max([ np.mean(score_FP_raw_nn[i,np.arange(K),permute_types[j] ]) for j in range(len(permute_types))])"
   ]
  },
  {
   "cell_type": "code",
   "execution_count": null,
   "id": "3bca0bc1-29c3-48df-84e1-1c4c6ba1b27a",
   "metadata": {},
   "outputs": [],
   "source": []
  },
  {
   "cell_type": "code",
   "execution_count": null,
   "id": "84469083-9c8d-46a3-903c-11f44058264d",
   "metadata": {},
   "outputs": [],
   "source": []
  },
  {
   "cell_type": "markdown",
   "id": "2c540fa3-af66-4703-948d-a7c8d22d0295",
   "metadata": {},
   "source": [
    "# Generate Figures"
   ]
  },
  {
   "cell_type": "code",
   "execution_count": null,
   "id": "b76fc334-b672-477d-ae9d-1dd2146e82d0",
   "metadata": {},
   "outputs": [],
   "source": [
    "plt.rcParams[\"font.family\"] = \"DejaVu Serif\"\n",
    "plt.figure()\n",
    "mark_size=120\n",
    "plt.scatter(amount_nn, 1-final_score_tsne_all_nn,  marker='o',label='tSNE',alpha=0.8,c='red',s=mark_size*1.5)\n",
    "plt.scatter(amount_nn, 1-final_score_FP_nn, marker='h',label='FP (Ours)',alpha=1,c='black',s=mark_size*2)\n",
    "\n",
    "\n",
    "plt.scatter(amount_nn, 1-final_score_icpml_nn, marker='s',label='IC-PML',c='grey',s=mark_size,alpha=.8)\n",
    "plt.scatter(amount_nn, 1-final_score_LDLE_nn,  marker='P',label='LDLE',c='purple',s=mark_size,alpha=1)\n",
    "\n",
    "plt.scatter(amount_nn, 1-final_score_mult_tSNE_nn, marker='d', label='Multi-tSNE',c='blue',s=mark_size)\n",
    "\n",
    "\n",
    "plt.scatter(amount_nn, 1-final_score_all_nn,  label='All Features',c='lime',alpha=1,s=mark_size*1.5, marker= '*')\n",
    "plt.scatter(amount_nn, 1-final_score_FP_raw_nn, marker='^', label='FP Features (Ours)',c='cyan',alpha=0.8,s=mark_size,  linewidths=.5, edgecolor='black')\n",
    "\n",
    "legend= plt.legend(loc='upper right',fontsize=12,framealpha=0.8)\n",
    "for handle in legend.legend_handles:\n",
    "    handle.set_alpha(1)\n",
    "#    handle.set_markersize(mark_size*1.5)\n",
    "\n",
    "plt.xlabel('K-Nearest Neighbors',fontsize=13)\n",
    "plt.ylabel('Error',fontsize=13)\n",
    "plt.title('',fontsize=15)\n",
    "plt.semilogy()\n",
    "plt.semilogy()\n"
   ]
  }
 ],
 "metadata": {
  "kernelspec": {
   "display_name": "Python 3 (ipykernel)",
   "language": "python",
   "name": "python3"
  },
  "language_info": {
   "codemirror_mode": {
    "name": "ipython",
    "version": 3
   },
   "file_extension": ".py",
   "mimetype": "text/x-python",
   "name": "python",
   "nbconvert_exporter": "python",
   "pygments_lexer": "ipython3",
   "version": "3.10.17"
  }
 },
 "nbformat": 4,
 "nbformat_minor": 5
}
